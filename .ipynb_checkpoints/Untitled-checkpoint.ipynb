{
 "cells": [
  {
   "cell_type": "markdown",
   "metadata": {},
   "source": [
    "## Imports"
   ]
  },
  {
   "cell_type": "code",
   "execution_count": 1,
   "metadata": {},
   "outputs": [],
   "source": [
    "import pandas as pd\n",
    "import numpy as np\n",
    "from sklearn.feature_extraction.text import CountVectorizer\n",
    "from sklearn.metrics.pairwise import cosine_similarity"
   ]
  },
  {
   "cell_type": "markdown",
   "metadata": {},
   "source": [
    "## Helper Functions"
   ]
  },
  {
   "cell_type": "code",
   "execution_count": 2,
   "metadata": {},
   "outputs": [],
   "source": [
    "def title_from_index(index):\n",
    "    return df[df.index == index][\"Title\"].values[0]\n",
    "\n",
    "def index_from_artist(artist):\n",
    "    return df[df['Artist'] == artist].index.values.astype(int)[0]\n",
    "\n"
   ]
  },
  {
   "cell_type": "markdown",
   "metadata": {},
   "source": [
    "## Mock Data"
   ]
  },
  {
   "cell_type": "code",
   "execution_count": 3,
   "metadata": {},
   "outputs": [],
   "source": [
    "data = [[\"You should be sad\", \"Halsey\", \"2020\", \"Pop\"], [\"Old Town Road\", \"Lil Nas X\", \"2019\", \"Country\"], \n",
    "        [\"Godzilla\", \"Eminem\", \"2020\", \"Rap\"], [\"Piano Sonata No. 14\", \"Beethoven\", \"1801\", \"Classical\"],\n",
    "       [\"Moonshine\", \"Caravan Palace\", \"2020\", \"Electroswing\"], [\"Sucker\", \"Jonas Brothers\", \"2019\", \"Pop\"],\n",
    "       [\"ADHD\", \"Joyner Lucas\", \"2019\", \"Rap\"], [\"The Real Slim Shady\", \"Eminem\", \"2000\", \"Rap\"]]\n",
    "df = pd.DataFrame(data, columns=['Title', 'Artist', 'Year', 'Genre'])"
   ]
  },
  {
   "cell_type": "code",
   "execution_count": 4,
   "metadata": {},
   "outputs": [],
   "source": [
    "user_test = \"Eminem\""
   ]
  },
  {
   "cell_type": "code",
   "execution_count": 5,
   "metadata": {},
   "outputs": [],
   "source": [
    "features = ['Title', 'Artist', 'Year', 'Genre']"
   ]
  },
  {
   "cell_type": "code",
   "execution_count": 6,
   "metadata": {},
   "outputs": [
    {
     "data": {
      "text/plain": [
       "['Title', 'Artist', 'Year', 'Genre']"
      ]
     },
     "execution_count": 6,
     "metadata": {},
     "output_type": "execute_result"
    }
   ],
   "source": [
    "features"
   ]
  },
  {
   "cell_type": "code",
   "execution_count": 7,
   "metadata": {},
   "outputs": [],
   "source": [
    "# Create new column that is combination of features\n",
    "def row_concat(row):\n",
    "    return row['Title'] + \" \" + row['Artist'] + \" \" + row['Year'] + \" \" + row[\"Genre\"]"
   ]
  },
  {
   "cell_type": "code",
   "execution_count": 8,
   "metadata": {},
   "outputs": [],
   "source": [
    "#Test out new function\n",
    "df['combined row'] = df.apply(row_concat, axis = 1)"
   ]
  },
  {
   "cell_type": "code",
   "execution_count": 9,
   "metadata": {},
   "outputs": [],
   "source": [
    "# Try out CountVectorizer \n",
    "cv = CountVectorizer()\n",
    "count_matrix = cv.fit_transform(df['combined row'])"
   ]
  },
  {
   "cell_type": "code",
   "execution_count": 10,
   "metadata": {},
   "outputs": [],
   "source": [
    "#Find similarity\n",
    "cosine_simil = cosine_similarity(count_matrix)"
   ]
  },
  {
   "cell_type": "code",
   "execution_count": 11,
   "metadata": {},
   "outputs": [],
   "source": [
    "#Use helper function to find index of title.\n",
    "artist_index = index_from_artist(user_test)"
   ]
  },
  {
   "cell_type": "code",
   "execution_count": 12,
   "metadata": {},
   "outputs": [],
   "source": [
    "#Get a list of similar\n",
    "similar_songs =  list(enumerate(cosine_simil[artist_index]))"
   ]
  },
  {
   "cell_type": "code",
   "execution_count": 13,
   "metadata": {},
   "outputs": [],
   "source": [
    "#Sort list\n",
    "sorted_similar_songs = sorted(similar_songs,key=lambda x:x[1],reverse=True)"
   ]
  },
  {
   "cell_type": "code",
   "execution_count": 14,
   "metadata": {},
   "outputs": [
    {
     "name": "stdout",
     "output_type": "stream",
     "text": [
      "Godzilla\n",
      "The Real Slim Shady\n",
      "Moonshine\n",
      "ADHD\n",
      "You should be sad\n",
      "Old Town Road\n",
      "Piano Sonata No. 14\n",
      "Sucker\n"
     ]
    }
   ],
   "source": [
    "## Step 8: Print titles of first 50 movies\n",
    "i=0\n",
    "for song in sorted_similar_songs:\n",
    "        print(title_from_index(song[0]))\n",
    "        i=i+1\n",
    "        if i>50:\n",
    "            break"
   ]
  }
 ],
 "metadata": {
  "kernelspec": {
   "display_name": "Python 3",
   "language": "python",
   "name": "python3"
  },
  "language_info": {
   "codemirror_mode": {
    "name": "ipython",
    "version": 3
   },
   "file_extension": ".py",
   "mimetype": "text/x-python",
   "name": "python",
   "nbconvert_exporter": "python",
   "pygments_lexer": "ipython3",
   "version": "3.7.4"
  }
 },
 "nbformat": 4,
 "nbformat_minor": 2
}
