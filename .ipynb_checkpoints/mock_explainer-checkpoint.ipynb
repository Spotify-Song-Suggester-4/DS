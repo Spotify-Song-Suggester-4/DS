{
 "cells": [
  {
   "cell_type": "markdown",
   "metadata": {},
   "source": [
    "# Mock Spotify Song Recommender Model & Explainer\n",
    "_Author: Jonathan Finger_"
   ]
  },
  {
   "cell_type": "markdown",
   "metadata": {},
   "source": [
    "## Imports"
   ]
  },
  {
   "cell_type": "markdown",
   "metadata": {},
   "source": [
    "Here we import a few packages..."
   ]
  },
  {
   "cell_type": "code",
   "execution_count": 1,
   "metadata": {},
   "outputs": [],
   "source": [
    "import pandas as pd\n",
    "import numpy as np\n",
    "from sklearn.feature_extraction.text import CountVectorizer\n",
    "from sklearn.metrics.pairwise import cosine_similarity"
   ]
  },
  {
   "cell_type": "markdown",
   "metadata": {},
   "source": [
    "## Helper Functions"
   ]
  },
  {
   "cell_type": "markdown",
   "metadata": {},
   "source": [
    "Next we define a couple functions that will help us along the way."
   ]
  },
  {
   "cell_type": "code",
   "execution_count": 2,
   "metadata": {},
   "outputs": [],
   "source": [
    "def title_from_index(index):\n",
    "    return df[df.index == index][\"Title\"].values.astype(str)[0]\n",
    "\n",
    "def artist_from_index(index):\n",
    "    return df[df.index == index][\"Artist\"].values.astype(str)[0]\n",
    "\n",
    "def genre_from_index(index):\n",
    "    return df[df.index == index][\"Genre\"].values.astype(str)[0]\n",
    "\n",
    "def index_from_title(title):\n",
    "    return df[df['Title'] == title].index.values.astype(int)[0]"
   ]
  },
  {
   "cell_type": "markdown",
   "metadata": {},
   "source": [
    "## Mock Data"
   ]
  },
  {
   "cell_type": "markdown",
   "metadata": {},
   "source": [
    "Next we generate some mock data. Here we create a dataset with a few example songs."
   ]
  },
  {
   "cell_type": "code",
   "execution_count": 3,
   "metadata": {},
   "outputs": [],
   "source": [
    "data = [[\"You Should Be Sad\", \"Halsey\", \"2020\", \"Pop\"], [\"Old Town Road\", \"Lil Nas X\", \"2019\", \"Country\"], \n",
    "        [\"Godzilla\", \"Eminem\", \"2020\", \"Rap\"], [\"Piano Sonata No. 14\", \"Beethoven\", \"1801\", \"Classical\"],\n",
    "       [\"Moonshine\", \"Caravan Palace\", \"2020\", \"Electroswing\"], [\"Sucker\", \"Jonas Brothers\", \"2019\", \"Pop\"],\n",
    "       [\"ADHD\", \"Joyner Lucas\", \"2019\", \"Rap\"], [\"The Real Slim Shady\", \"Eminem\", \"2000\", \"Rap\"]]\n",
    "df = pd.DataFrame(data, columns=['Title', 'Artist', 'Year', 'Genre'])"
   ]
  },
  {
   "cell_type": "markdown",
   "metadata": {},
   "source": [
    "And we can see the resulting mock dataframe below."
   ]
  },
  {
   "cell_type": "code",
   "execution_count": 4,
   "metadata": {},
   "outputs": [
    {
     "data": {
      "text/html": [
       "<div>\n",
       "<style scoped>\n",
       "    .dataframe tbody tr th:only-of-type {\n",
       "        vertical-align: middle;\n",
       "    }\n",
       "\n",
       "    .dataframe tbody tr th {\n",
       "        vertical-align: top;\n",
       "    }\n",
       "\n",
       "    .dataframe thead th {\n",
       "        text-align: right;\n",
       "    }\n",
       "</style>\n",
       "<table border=\"1\" class=\"dataframe\">\n",
       "  <thead>\n",
       "    <tr style=\"text-align: right;\">\n",
       "      <th></th>\n",
       "      <th>Title</th>\n",
       "      <th>Artist</th>\n",
       "      <th>Year</th>\n",
       "      <th>Genre</th>\n",
       "    </tr>\n",
       "  </thead>\n",
       "  <tbody>\n",
       "    <tr>\n",
       "      <td>0</td>\n",
       "      <td>You Should Be Sad</td>\n",
       "      <td>Halsey</td>\n",
       "      <td>2020</td>\n",
       "      <td>Pop</td>\n",
       "    </tr>\n",
       "    <tr>\n",
       "      <td>1</td>\n",
       "      <td>Old Town Road</td>\n",
       "      <td>Lil Nas X</td>\n",
       "      <td>2019</td>\n",
       "      <td>Country</td>\n",
       "    </tr>\n",
       "    <tr>\n",
       "      <td>2</td>\n",
       "      <td>Godzilla</td>\n",
       "      <td>Eminem</td>\n",
       "      <td>2020</td>\n",
       "      <td>Rap</td>\n",
       "    </tr>\n",
       "    <tr>\n",
       "      <td>3</td>\n",
       "      <td>Piano Sonata No. 14</td>\n",
       "      <td>Beethoven</td>\n",
       "      <td>1801</td>\n",
       "      <td>Classical</td>\n",
       "    </tr>\n",
       "    <tr>\n",
       "      <td>4</td>\n",
       "      <td>Moonshine</td>\n",
       "      <td>Caravan Palace</td>\n",
       "      <td>2020</td>\n",
       "      <td>Electroswing</td>\n",
       "    </tr>\n",
       "    <tr>\n",
       "      <td>5</td>\n",
       "      <td>Sucker</td>\n",
       "      <td>Jonas Brothers</td>\n",
       "      <td>2019</td>\n",
       "      <td>Pop</td>\n",
       "    </tr>\n",
       "    <tr>\n",
       "      <td>6</td>\n",
       "      <td>ADHD</td>\n",
       "      <td>Joyner Lucas</td>\n",
       "      <td>2019</td>\n",
       "      <td>Rap</td>\n",
       "    </tr>\n",
       "    <tr>\n",
       "      <td>7</td>\n",
       "      <td>The Real Slim Shady</td>\n",
       "      <td>Eminem</td>\n",
       "      <td>2000</td>\n",
       "      <td>Rap</td>\n",
       "    </tr>\n",
       "  </tbody>\n",
       "</table>\n",
       "</div>"
      ],
      "text/plain": [
       "                 Title          Artist  Year         Genre\n",
       "0    You Should Be Sad          Halsey  2020           Pop\n",
       "1        Old Town Road       Lil Nas X  2019       Country\n",
       "2             Godzilla          Eminem  2020           Rap\n",
       "3  Piano Sonata No. 14       Beethoven  1801     Classical\n",
       "4            Moonshine  Caravan Palace  2020  Electroswing\n",
       "5               Sucker  Jonas Brothers  2019           Pop\n",
       "6                 ADHD    Joyner Lucas  2019           Rap\n",
       "7  The Real Slim Shady          Eminem  2000           Rap"
      ]
     },
     "execution_count": 4,
     "metadata": {},
     "output_type": "execute_result"
    }
   ],
   "source": [
    "df"
   ]
  },
  {
   "cell_type": "markdown",
   "metadata": {},
   "source": [
    "## Model preparation"
   ]
  },
  {
   "cell_type": "markdown",
   "metadata": {},
   "source": [
    "Defining the columns (features) that we think are important."
   ]
  },
  {
   "cell_type": "code",
   "execution_count": 5,
   "metadata": {},
   "outputs": [],
   "source": [
    "features = ['Title', 'Artist', 'Year', 'Genre']"
   ]
  },
  {
   "cell_type": "markdown",
   "metadata": {},
   "source": [
    "For the mock model, I am using something __cosine similarity__. The idea is to take all of the music metadata (title, artist, year, genre; and of course whatever the real spotify api has) and mush them together into one string-- example: Old Town Road Lil Nas X 2019 Country. Cosine similarity steals from geometry/trigonometry to gauge how similar two things are. Imagine an analog clock with the hands pointing to 12:15PM, the hands of the clock form a right angle (45deg, little hand up big hand to the right). Now imagine the clock at 12:05. The hands of the clock make a much smaller angle because the points the hands indicate (12 o clock with the little hand, and 5 minutes with the big hand) are closer together. \n",
    "\n",
    "So, now look at the Eminem songs in the chart. When we smash their values together, they will share `Eminem` and `Rap` and maybe even the same year if they are on the same `album`. The fact that these songs share so many values makes their `cosine angle` small (very similar). If you look at the songs by `Beethoven` and `Jonas Brothers`, they don't share anything in common (aka their angle is large-- so not similar).\n",
    "\n",
    "To start, the function below will create a new column with the smushed string values."
   ]
  },
  {
   "cell_type": "code",
   "execution_count": 6,
   "metadata": {},
   "outputs": [],
   "source": [
    "# Create new column that is combination of features\n",
    "def row_concat(row):\n",
    "    return row['Title'] + \" \" + row['Artist'] + \" \" + row['Year'] + \" \" + row[\"Genre\"]"
   ]
  },
  {
   "cell_type": "code",
   "execution_count": 7,
   "metadata": {},
   "outputs": [],
   "source": [
    "#Use new function\n",
    "df['combined row'] = df.apply(row_concat, axis = 1)"
   ]
  },
  {
   "cell_type": "markdown",
   "metadata": {},
   "source": [
    "We can see the new smushed column as such:"
   ]
  },
  {
   "cell_type": "code",
   "execution_count": 8,
   "metadata": {},
   "outputs": [
    {
     "data": {
      "text/html": [
       "<div>\n",
       "<style scoped>\n",
       "    .dataframe tbody tr th:only-of-type {\n",
       "        vertical-align: middle;\n",
       "    }\n",
       "\n",
       "    .dataframe tbody tr th {\n",
       "        vertical-align: top;\n",
       "    }\n",
       "\n",
       "    .dataframe thead th {\n",
       "        text-align: right;\n",
       "    }\n",
       "</style>\n",
       "<table border=\"1\" class=\"dataframe\">\n",
       "  <thead>\n",
       "    <tr style=\"text-align: right;\">\n",
       "      <th></th>\n",
       "      <th>Title</th>\n",
       "      <th>Artist</th>\n",
       "      <th>Year</th>\n",
       "      <th>Genre</th>\n",
       "      <th>combined row</th>\n",
       "    </tr>\n",
       "  </thead>\n",
       "  <tbody>\n",
       "    <tr>\n",
       "      <td>0</td>\n",
       "      <td>You Should Be Sad</td>\n",
       "      <td>Halsey</td>\n",
       "      <td>2020</td>\n",
       "      <td>Pop</td>\n",
       "      <td>You Should Be Sad Halsey 2020 Pop</td>\n",
       "    </tr>\n",
       "    <tr>\n",
       "      <td>1</td>\n",
       "      <td>Old Town Road</td>\n",
       "      <td>Lil Nas X</td>\n",
       "      <td>2019</td>\n",
       "      <td>Country</td>\n",
       "      <td>Old Town Road Lil Nas X 2019 Country</td>\n",
       "    </tr>\n",
       "    <tr>\n",
       "      <td>2</td>\n",
       "      <td>Godzilla</td>\n",
       "      <td>Eminem</td>\n",
       "      <td>2020</td>\n",
       "      <td>Rap</td>\n",
       "      <td>Godzilla Eminem 2020 Rap</td>\n",
       "    </tr>\n",
       "    <tr>\n",
       "      <td>3</td>\n",
       "      <td>Piano Sonata No. 14</td>\n",
       "      <td>Beethoven</td>\n",
       "      <td>1801</td>\n",
       "      <td>Classical</td>\n",
       "      <td>Piano Sonata No. 14 Beethoven 1801 Classical</td>\n",
       "    </tr>\n",
       "    <tr>\n",
       "      <td>4</td>\n",
       "      <td>Moonshine</td>\n",
       "      <td>Caravan Palace</td>\n",
       "      <td>2020</td>\n",
       "      <td>Electroswing</td>\n",
       "      <td>Moonshine Caravan Palace 2020 Electroswing</td>\n",
       "    </tr>\n",
       "    <tr>\n",
       "      <td>5</td>\n",
       "      <td>Sucker</td>\n",
       "      <td>Jonas Brothers</td>\n",
       "      <td>2019</td>\n",
       "      <td>Pop</td>\n",
       "      <td>Sucker Jonas Brothers 2019 Pop</td>\n",
       "    </tr>\n",
       "    <tr>\n",
       "      <td>6</td>\n",
       "      <td>ADHD</td>\n",
       "      <td>Joyner Lucas</td>\n",
       "      <td>2019</td>\n",
       "      <td>Rap</td>\n",
       "      <td>ADHD Joyner Lucas 2019 Rap</td>\n",
       "    </tr>\n",
       "    <tr>\n",
       "      <td>7</td>\n",
       "      <td>The Real Slim Shady</td>\n",
       "      <td>Eminem</td>\n",
       "      <td>2000</td>\n",
       "      <td>Rap</td>\n",
       "      <td>The Real Slim Shady Eminem 2000 Rap</td>\n",
       "    </tr>\n",
       "  </tbody>\n",
       "</table>\n",
       "</div>"
      ],
      "text/plain": [
       "                 Title          Artist  Year         Genre  \\\n",
       "0    You Should Be Sad          Halsey  2020           Pop   \n",
       "1        Old Town Road       Lil Nas X  2019       Country   \n",
       "2             Godzilla          Eminem  2020           Rap   \n",
       "3  Piano Sonata No. 14       Beethoven  1801     Classical   \n",
       "4            Moonshine  Caravan Palace  2020  Electroswing   \n",
       "5               Sucker  Jonas Brothers  2019           Pop   \n",
       "6                 ADHD    Joyner Lucas  2019           Rap   \n",
       "7  The Real Slim Shady          Eminem  2000           Rap   \n",
       "\n",
       "                                   combined row  \n",
       "0             You Should Be Sad Halsey 2020 Pop  \n",
       "1          Old Town Road Lil Nas X 2019 Country  \n",
       "2                      Godzilla Eminem 2020 Rap  \n",
       "3  Piano Sonata No. 14 Beethoven 1801 Classical  \n",
       "4    Moonshine Caravan Palace 2020 Electroswing  \n",
       "5                Sucker Jonas Brothers 2019 Pop  \n",
       "6                    ADHD Joyner Lucas 2019 Rap  \n",
       "7           The Real Slim Shady Eminem 2000 Rap  "
      ]
     },
     "execution_count": 8,
     "metadata": {},
     "output_type": "execute_result"
    }
   ],
   "source": [
    "df"
   ]
  },
  {
   "cell_type": "markdown",
   "metadata": {},
   "source": [
    "Below I use `CountVectorizer` to count up the similar words between smushed strings and create a matrix of values. Then I use the `cosine similarity` function to get a similarity between every possible pairing."
   ]
  },
  {
   "cell_type": "code",
   "execution_count": 9,
   "metadata": {},
   "outputs": [],
   "source": [
    "# Try out CountVectorizer \n",
    "cv = CountVectorizer()\n",
    "count_matrix = cv.fit_transform(df['combined row'])"
   ]
  },
  {
   "cell_type": "code",
   "execution_count": 10,
   "metadata": {},
   "outputs": [],
   "source": [
    "#Find similarity\n",
    "cosine_simil = cosine_similarity(count_matrix)"
   ]
  },
  {
   "cell_type": "markdown",
   "metadata": {},
   "source": [
    "Let's test it out using the classic: `The Real Slim Shady` by `Eminem`. It should pick other eminem songs first and maybe other rap songs if it is robust."
   ]
  },
  {
   "cell_type": "code",
   "execution_count": 11,
   "metadata": {},
   "outputs": [],
   "source": [
    "user_test_title = \"The Real Slim Shady\""
   ]
  },
  {
   "cell_type": "code",
   "execution_count": 12,
   "metadata": {},
   "outputs": [],
   "source": [
    "#Use helper function to find index (#) of title.\n",
    "song_index = index_from_title(user_test_title)"
   ]
  },
  {
   "cell_type": "code",
   "execution_count": 13,
   "metadata": {},
   "outputs": [],
   "source": [
    "#Create list of similar songs\n",
    "similar_songs =  list(enumerate(cosine_simil[song_index]))"
   ]
  },
  {
   "cell_type": "code",
   "execution_count": 14,
   "metadata": {},
   "outputs": [],
   "source": [
    "#Sort list by most similar to least\n",
    "sorted_similar_songs = sorted(similar_songs,key=lambda x:x[1],reverse=True)"
   ]
  },
  {
   "cell_type": "code",
   "execution_count": 15,
   "metadata": {},
   "outputs": [
    {
     "name": "stdout",
     "output_type": "stream",
     "text": [
      "No. 1 \"Godzilla\" by Eminem (Rap)\n",
      "No. 2 \"ADHD\" by Joyner Lucas (Rap)\n",
      "No. 3 \"You Should Be Sad\" by Halsey (Pop)\n",
      "No. 4 \"Old Town Road\" by Lil Nas X (Country)\n",
      "No. 5 \"Piano Sonata No. 14\" by Beethoven (Classical)\n",
      "No. 6 \"Moonshine\" by Caravan Palace (Electroswing)\n",
      "No. 7 \"Sucker\" by Jonas Brothers (Pop)\n"
     ]
    }
   ],
   "source": [
    "## Print titles of first 10 songs\n",
    "i=0\n",
    "for song in sorted_similar_songs:\n",
    "    if i == 0:\n",
    "        i = i+1\n",
    "    else:\n",
    "        print(f'No. {i} \"{title_from_index(song[0])}\" by {artist_from_index(song[0])} ({genre_from_index(song[0])})')\n",
    "        i=i+1\n",
    "        if i>11:\n",
    "            break"
   ]
  },
  {
   "cell_type": "markdown",
   "metadata": {},
   "source": [
    "Both rap songs first, with the other eminem song before the other rap song.  "
   ]
  },
  {
   "cell_type": "markdown",
   "metadata": {},
   "source": [
    "## Notes"
   ]
  },
  {
   "cell_type": "markdown",
   "metadata": {},
   "source": [
    "This is only a basic version of a machine learning model. I started with choosing an artist and giving back similar songs based on the title This was just to try things out. _Note:_ I remember us talking about choosing genre as our seed. This approach won't work with our current set up, at least not for what I can do in a couple days. In order to select `genre`, you'd then recommend popular songs in that `genre` based on what the user already listened to or through a collaborative model (user a & b like The Beatles, but what songs does user b listen to that user a might like because of this?). We would need users and mock users with playlists already established-- that sounds a bit ambitious off the bat.\n",
    "\n",
    "I already see some non ideal situations too... example: if two albums start with \"the\", I don't really think that should add to similarity. But these are speedbumps to tackle later as I iterate on the model and especially once I get real data from the spotify API."
   ]
  }
 ],
 "metadata": {
  "kernelspec": {
   "display_name": "Python 3",
   "language": "python",
   "name": "python3"
  },
  "language_info": {
   "codemirror_mode": {
    "name": "ipython",
    "version": 3
   },
   "file_extension": ".py",
   "mimetype": "text/x-python",
   "name": "python",
   "nbconvert_exporter": "python",
   "pygments_lexer": "ipython3",
   "version": "3.7.4"
  }
 },
 "nbformat": 4,
 "nbformat_minor": 2
}
